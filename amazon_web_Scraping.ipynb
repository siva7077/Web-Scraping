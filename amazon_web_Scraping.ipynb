{
 "cells": [
  {
   "cell_type": "code",
   "execution_count": 41,
   "metadata": {},
   "outputs": [
    {
     "name": "stderr",
     "output_type": "stream",
     "text": [
      "C:\\Users\\Admin\\Anaconda3\\lib\\site-packages\\urllib3\\connectionpool.py:858: InsecureRequestWarning: Unverified HTTPS request is being made. Adding certificate verification is strongly advised. See: https://urllib3.readthedocs.io/en/latest/advanced-usage.html#ssl-warnings\n",
      "  InsecureRequestWarning)\n"
     ]
    }
   ],
   "source": [
    "import requests\n",
    "from bs4 import BeautifulSoup\n",
    "import pandas as pd\n",
    "import numpy as np\n",
    "url = 'https://www.amazon.in/s?k=wrist+watch+for+men&sprefix=wrist+wat%2Caps%2C291&ref=nb_sb_ss_ts-doa-p_1_9'\n",
    "web_content = requests.get(url, verify=False).content\n",
    "soup = BeautifulSoup(web_content, \"html.parser\")\n",
    "# print(soup)"
   ]
  },
  {
   "cell_type": "code",
   "execution_count": 42,
   "metadata": {},
   "outputs": [],
   "source": [
    "products = []\n",
    "for result in soup.select('.s-result-item'):\n",
    "    name_elem = result.find('span', {'class': 'a-size-base-plus a-color-base a-text-normal'})\n",
    "    if name_elem is not None:\n",
    "        name = name_elem.text.strip()\n",
    "    else:\n",
    "        name = 'Name not available'\n",
    "\n",
    "    price_elem = result.find('span', {'class': 'a-price-whole'})\n",
    "    if price_elem is not None:\n",
    "        price = price_elem.text.strip()\n",
    "    else:\n",
    "        price = 'Price not available'\n",
    "\n",
    "    rating_elem = result.find('span', {'class': 'a-icon-alt'})\n",
    "    if rating_elem is not None:\n",
    "        rating_text = rating_elem.text.strip()\n",
    "        rating = round(float(rating_text.split()[0]))\n",
    "    else:\n",
    "        rating = 'Rating not available'\n",
    "\n",
    "    products.append((name, price, rating))\n"
   ]
  },
  {
   "cell_type": "code",
   "execution_count": 43,
   "metadata": {},
   "outputs": [
    {
     "data": {
      "text/html": [
       "<div>\n",
       "<style scoped>\n",
       "    .dataframe tbody tr th:only-of-type {\n",
       "        vertical-align: middle;\n",
       "    }\n",
       "\n",
       "    .dataframe tbody tr th {\n",
       "        vertical-align: top;\n",
       "    }\n",
       "\n",
       "    .dataframe thead th {\n",
       "        text-align: right;\n",
       "    }\n",
       "</style>\n",
       "<table border=\"1\" class=\"dataframe\">\n",
       "  <thead>\n",
       "    <tr style=\"text-align: right;\">\n",
       "      <th></th>\n",
       "      <th>Name</th>\n",
       "      <th>Price</th>\n",
       "      <th>Rating</th>\n",
       "    </tr>\n",
       "  </thead>\n",
       "  <tbody>\n",
       "    <tr>\n",
       "      <th>0</th>\n",
       "      <td>Name not available</td>\n",
       "      <td>Price not available</td>\n",
       "      <td>Rating not available</td>\n",
       "    </tr>\n",
       "    <tr>\n",
       "      <th>1</th>\n",
       "      <td>Silicone Strap Analog Wrist Watch for Men (Bla...</td>\n",
       "      <td>397</td>\n",
       "      <td>4</td>\n",
       "    </tr>\n",
       "    <tr>\n",
       "      <th>2</th>\n",
       "      <td>Analog Day Date Functioning Stainless Steel Ch...</td>\n",
       "      <td>319</td>\n",
       "      <td>4</td>\n",
       "    </tr>\n",
       "    <tr>\n",
       "      <th>3</th>\n",
       "      <td>Analog Black Dial Men's Watch-TW000R438</td>\n",
       "      <td>1,739</td>\n",
       "      <td>4</td>\n",
       "    </tr>\n",
       "    <tr>\n",
       "      <th>4</th>\n",
       "      <td>Analog OffWhite Dial Men's Watch NM1712YM02 / ...</td>\n",
       "      <td>1,995</td>\n",
       "      <td>4</td>\n",
       "    </tr>\n",
       "  </tbody>\n",
       "</table>\n",
       "</div>"
      ],
      "text/plain": [
       "                                                Name                Price  \\\n",
       "0                                 Name not available  Price not available   \n",
       "1  Silicone Strap Analog Wrist Watch for Men (Bla...                  397   \n",
       "2  Analog Day Date Functioning Stainless Steel Ch...                  319   \n",
       "3            Analog Black Dial Men's Watch-TW000R438                1,739   \n",
       "4  Analog OffWhite Dial Men's Watch NM1712YM02 / ...                1,995   \n",
       "\n",
       "                 Rating  \n",
       "0  Rating not available  \n",
       "1                     4  \n",
       "2                     4  \n",
       "3                     4  \n",
       "4                     4  "
      ]
     },
     "execution_count": 43,
     "metadata": {},
     "output_type": "execute_result"
    }
   ],
   "source": [
    "df = pd.DataFrame(products, columns=['Name', 'Price', 'Rating'])\n",
    "df.head(5)"
   ]
  },
  {
   "cell_type": "code",
   "execution_count": 44,
   "metadata": {},
   "outputs": [
    {
     "data": {
      "text/html": [
       "<div>\n",
       "<style scoped>\n",
       "    .dataframe tbody tr th:only-of-type {\n",
       "        vertical-align: middle;\n",
       "    }\n",
       "\n",
       "    .dataframe tbody tr th {\n",
       "        vertical-align: top;\n",
       "    }\n",
       "\n",
       "    .dataframe thead th {\n",
       "        text-align: right;\n",
       "    }\n",
       "</style>\n",
       "<table border=\"1\" class=\"dataframe\">\n",
       "  <thead>\n",
       "    <tr style=\"text-align: right;\">\n",
       "      <th></th>\n",
       "      <th>Name</th>\n",
       "      <th>Price</th>\n",
       "      <th>Rating</th>\n",
       "    </tr>\n",
       "  </thead>\n",
       "  <tbody>\n",
       "    <tr>\n",
       "      <th>1</th>\n",
       "      <td>Silicone Strap Analog Wrist Watch for Men (Bla...</td>\n",
       "      <td>397</td>\n",
       "      <td>4</td>\n",
       "    </tr>\n",
       "    <tr>\n",
       "      <th>2</th>\n",
       "      <td>Analog Day Date Functioning Stainless Steel Ch...</td>\n",
       "      <td>319</td>\n",
       "      <td>4</td>\n",
       "    </tr>\n",
       "    <tr>\n",
       "      <th>3</th>\n",
       "      <td>Analog Black Dial Men's Watch-TW000R438</td>\n",
       "      <td>1,739</td>\n",
       "      <td>4</td>\n",
       "    </tr>\n",
       "    <tr>\n",
       "      <th>4</th>\n",
       "      <td>Analog OffWhite Dial Men's Watch NM1712YM02 / ...</td>\n",
       "      <td>1,995</td>\n",
       "      <td>4</td>\n",
       "    </tr>\n",
       "    <tr>\n",
       "      <th>6</th>\n",
       "      <td>Analog Men's Watch</td>\n",
       "      <td>1,099</td>\n",
       "      <td>4</td>\n",
       "    </tr>\n",
       "  </tbody>\n",
       "</table>\n",
       "</div>"
      ],
      "text/plain": [
       "                                                Name  Price Rating\n",
       "1  Silicone Strap Analog Wrist Watch for Men (Bla...    397      4\n",
       "2  Analog Day Date Functioning Stainless Steel Ch...    319      4\n",
       "3            Analog Black Dial Men's Watch-TW000R438  1,739      4\n",
       "4  Analog OffWhite Dial Men's Watch NM1712YM02 / ...  1,995      4\n",
       "6                                 Analog Men's Watch  1,099      4"
      ]
     },
     "execution_count": 44,
     "metadata": {},
     "output_type": "execute_result"
    }
   ],
   "source": [
    "df.drop(df.loc[df['Name'] == 'Name not available'].index, inplace=True)\n",
    "# df=df.set_index(,*,drop=True)\n",
    "df.head(5)"
   ]
  },
  {
   "cell_type": "code",
   "execution_count": 45,
   "metadata": {},
   "outputs": [
    {
     "data": {
      "text/html": [
       "<div>\n",
       "<style scoped>\n",
       "    .dataframe tbody tr th:only-of-type {\n",
       "        vertical-align: middle;\n",
       "    }\n",
       "\n",
       "    .dataframe tbody tr th {\n",
       "        vertical-align: top;\n",
       "    }\n",
       "\n",
       "    .dataframe thead th {\n",
       "        text-align: right;\n",
       "    }\n",
       "</style>\n",
       "<table border=\"1\" class=\"dataframe\">\n",
       "  <thead>\n",
       "    <tr style=\"text-align: right;\">\n",
       "      <th></th>\n",
       "      <th>Name</th>\n",
       "      <th>Price</th>\n",
       "      <th>Rating</th>\n",
       "    </tr>\n",
       "  </thead>\n",
       "  <tbody>\n",
       "    <tr>\n",
       "      <th>1</th>\n",
       "      <td>Silicone Strap Analog Wrist Watch for Men (Bla...</td>\n",
       "      <td>397</td>\n",
       "      <td>4.0</td>\n",
       "    </tr>\n",
       "    <tr>\n",
       "      <th>2</th>\n",
       "      <td>Analog Day Date Functioning Stainless Steel Ch...</td>\n",
       "      <td>319</td>\n",
       "      <td>4.0</td>\n",
       "    </tr>\n",
       "    <tr>\n",
       "      <th>3</th>\n",
       "      <td>Analog Black Dial Men's Watch-TW000R438</td>\n",
       "      <td>1,739</td>\n",
       "      <td>4.0</td>\n",
       "    </tr>\n",
       "    <tr>\n",
       "      <th>4</th>\n",
       "      <td>Analog OffWhite Dial Men's Watch NM1712YM02 / ...</td>\n",
       "      <td>1,995</td>\n",
       "      <td>4.0</td>\n",
       "    </tr>\n",
       "    <tr>\n",
       "      <th>6</th>\n",
       "      <td>Analog Men's Watch</td>\n",
       "      <td>1,099</td>\n",
       "      <td>4.0</td>\n",
       "    </tr>\n",
       "    <tr>\n",
       "      <th>7</th>\n",
       "      <td>Analog Black Dial Business Stainless Steel Wri...</td>\n",
       "      <td>489</td>\n",
       "      <td>5.0</td>\n",
       "    </tr>\n",
       "    <tr>\n",
       "      <th>8</th>\n",
       "      <td>Analog Day &amp; Date Display Wrist Watch for Men ...</td>\n",
       "      <td>299</td>\n",
       "      <td>4.0</td>\n",
       "    </tr>\n",
       "    <tr>\n",
       "      <th>9</th>\n",
       "      <td>Grant Chronograph Blue Dial Men's Watch - FS5151</td>\n",
       "      <td>7,497</td>\n",
       "      <td>5.0</td>\n",
       "    </tr>\n",
       "    <tr>\n",
       "      <th>10</th>\n",
       "      <td>Mesh Steel Chain Analog Wrist Watch for Men (L...</td>\n",
       "      <td>329</td>\n",
       "      <td>4.0</td>\n",
       "    </tr>\n",
       "    <tr>\n",
       "      <th>11</th>\n",
       "      <td>Classics Analog Silver Dial Men's Watch -TW000...</td>\n",
       "      <td>1,886</td>\n",
       "      <td>4.0</td>\n",
       "    </tr>\n",
       "  </tbody>\n",
       "</table>\n",
       "</div>"
      ],
      "text/plain": [
       "                                                 Name  Price  Rating\n",
       "1   Silicone Strap Analog Wrist Watch for Men (Bla...    397     4.0\n",
       "2   Analog Day Date Functioning Stainless Steel Ch...    319     4.0\n",
       "3             Analog Black Dial Men's Watch-TW000R438  1,739     4.0\n",
       "4   Analog OffWhite Dial Men's Watch NM1712YM02 / ...  1,995     4.0\n",
       "6                                  Analog Men's Watch  1,099     4.0\n",
       "7   Analog Black Dial Business Stainless Steel Wri...    489     5.0\n",
       "8   Analog Day & Date Display Wrist Watch for Men ...    299     4.0\n",
       "9    Grant Chronograph Blue Dial Men's Watch - FS5151  7,497     5.0\n",
       "10  Mesh Steel Chain Analog Wrist Watch for Men (L...    329     4.0\n",
       "11  Classics Analog Silver Dial Men's Watch -TW000...  1,886     4.0"
      ]
     },
     "execution_count": 45,
     "metadata": {},
     "output_type": "execute_result"
    }
   ],
   "source": [
    "df['Rating'] = pd.to_numeric(df['Rating'], errors='coerce')\n",
    "df.head(10)"
   ]
  },
  {
   "cell_type": "code",
   "execution_count": 46,
   "metadata": {},
   "outputs": [
    {
     "data": {
      "text/html": [
       "<div>\n",
       "<style scoped>\n",
       "    .dataframe tbody tr th:only-of-type {\n",
       "        vertical-align: middle;\n",
       "    }\n",
       "\n",
       "    .dataframe tbody tr th {\n",
       "        vertical-align: top;\n",
       "    }\n",
       "\n",
       "    .dataframe thead th {\n",
       "        text-align: right;\n",
       "    }\n",
       "</style>\n",
       "<table border=\"1\" class=\"dataframe\">\n",
       "  <thead>\n",
       "    <tr style=\"text-align: right;\">\n",
       "      <th></th>\n",
       "      <th>Name</th>\n",
       "      <th>Price</th>\n",
       "      <th>Rating</th>\n",
       "    </tr>\n",
       "  </thead>\n",
       "  <tbody>\n",
       "    <tr>\n",
       "      <th>1</th>\n",
       "      <td>Silicone Strap Analog Wrist Watch for Men (Bla...</td>\n",
       "      <td>397</td>\n",
       "      <td>4.0</td>\n",
       "    </tr>\n",
       "    <tr>\n",
       "      <th>2</th>\n",
       "      <td>Analog Day Date Functioning Stainless Steel Ch...</td>\n",
       "      <td>319</td>\n",
       "      <td>4.0</td>\n",
       "    </tr>\n",
       "    <tr>\n",
       "      <th>3</th>\n",
       "      <td>Analog Black Dial Men's Watch-TW000R438</td>\n",
       "      <td>1,739</td>\n",
       "      <td>4.0</td>\n",
       "    </tr>\n",
       "    <tr>\n",
       "      <th>4</th>\n",
       "      <td>Analog OffWhite Dial Men's Watch NM1712YM02 / ...</td>\n",
       "      <td>1,995</td>\n",
       "      <td>4.0</td>\n",
       "    </tr>\n",
       "    <tr>\n",
       "      <th>6</th>\n",
       "      <td>Analog Men's Watch</td>\n",
       "      <td>1,099</td>\n",
       "      <td>4.0</td>\n",
       "    </tr>\n",
       "    <tr>\n",
       "      <th>7</th>\n",
       "      <td>Analog Black Dial Business Stainless Steel Wri...</td>\n",
       "      <td>489</td>\n",
       "      <td>5.0</td>\n",
       "    </tr>\n",
       "    <tr>\n",
       "      <th>8</th>\n",
       "      <td>Analog Day &amp; Date Display Wrist Watch for Men ...</td>\n",
       "      <td>299</td>\n",
       "      <td>4.0</td>\n",
       "    </tr>\n",
       "    <tr>\n",
       "      <th>9</th>\n",
       "      <td>Grant Chronograph Blue Dial Men's Watch - FS5151</td>\n",
       "      <td>7,497</td>\n",
       "      <td>5.0</td>\n",
       "    </tr>\n",
       "    <tr>\n",
       "      <th>10</th>\n",
       "      <td>Mesh Steel Chain Analog Wrist Watch for Men (L...</td>\n",
       "      <td>329</td>\n",
       "      <td>4.0</td>\n",
       "    </tr>\n",
       "    <tr>\n",
       "      <th>11</th>\n",
       "      <td>Classics Analog Silver Dial Men's Watch -TW000...</td>\n",
       "      <td>1,886</td>\n",
       "      <td>4.0</td>\n",
       "    </tr>\n",
       "  </tbody>\n",
       "</table>\n",
       "</div>"
      ],
      "text/plain": [
       "                                                 Name  Price  Rating\n",
       "1   Silicone Strap Analog Wrist Watch for Men (Bla...    397     4.0\n",
       "2   Analog Day Date Functioning Stainless Steel Ch...    319     4.0\n",
       "3             Analog Black Dial Men's Watch-TW000R438  1,739     4.0\n",
       "4   Analog OffWhite Dial Men's Watch NM1712YM02 / ...  1,995     4.0\n",
       "6                                  Analog Men's Watch  1,099     4.0\n",
       "7   Analog Black Dial Business Stainless Steel Wri...    489     5.0\n",
       "8   Analog Day & Date Display Wrist Watch for Men ...    299     4.0\n",
       "9    Grant Chronograph Blue Dial Men's Watch - FS5151  7,497     5.0\n",
       "10  Mesh Steel Chain Analog Wrist Watch for Men (L...    329     4.0\n",
       "11  Classics Analog Silver Dial Men's Watch -TW000...  1,886     4.0"
      ]
     },
     "execution_count": 46,
     "metadata": {},
     "output_type": "execute_result"
    }
   ],
   "source": [
    "mean=int(df['Rating'].mean(skipna=True))\n",
    "df['Rating']=df['Rating'].replace(np.NaN,mean)\n",
    "df.head(10)"
   ]
  },
  {
   "cell_type": "code",
   "execution_count": 47,
   "metadata": {},
   "outputs": [
    {
     "name": "stdout",
     "output_type": "stream",
     "text": [
      "<class 'pandas.core.frame.DataFrame'>\n",
      "Int64Index: 49 entries, 1 to 51\n",
      "Data columns (total 3 columns):\n",
      " #   Column  Non-Null Count  Dtype  \n",
      "---  ------  --------------  -----  \n",
      " 0   Name    49 non-null     object \n",
      " 1   Price   49 non-null     object \n",
      " 2   Rating  49 non-null     float64\n",
      "dtypes: float64(1), object(2)\n",
      "memory usage: 1.5+ KB\n"
     ]
    }
   ],
   "source": [
    "df.info()"
   ]
  },
  {
   "cell_type": "code",
   "execution_count": 48,
   "metadata": {},
   "outputs": [],
   "source": [
    "df.to_csv('amazon_web_scrap.csv')"
   ]
  },
  {
   "cell_type": "code",
   "execution_count": 49,
   "metadata": {},
   "outputs": [],
   "source": [
    "df2=pd.read_csv(\"amazon_web_scrap.csv\")\n",
    "df2.head(10)"
   ]
  },
  {
   "cell_type": "code",
   "execution_count": 50,
   "metadata": {},
   "outputs": [
    {
     "ename": "NameError",
     "evalue": "name 'amazon_web_scrap' is not defined",
     "output_type": "error",
     "traceback": [
      "\u001b[1;31m---------------------------------------------------------------------------\u001b[0m",
      "\u001b[1;31mNameError\u001b[0m                                 Traceback (most recent call last)",
      "\u001b[1;32m<ipython-input-50-65106d5f2633>\u001b[0m in \u001b[0;36m<module>\u001b[1;34m()\u001b[0m\n\u001b[1;32m----> 1\u001b[1;33m \u001b[0mamazon_web_scrap\u001b[0m\u001b[1;33m\u001b[0m\u001b[0m\n\u001b[0m",
      "\u001b[1;31mNameError\u001b[0m: name 'amazon_web_scrap' is not defined"
     ]
    }
   ],
   "source": [
    
   ]
  },
  {
   "cell_type": "code",
   "execution_count": null,
   "metadata": {},
   "outputs": [],
   "source": []
  },
  {
   "cell_type": "code",
   "execution_count": null,
   "metadata": {},
   "outputs": [],
   "source": []
  },
  {
   "cell_type": "code",
   "execution_count": null,
   "metadata": {},
   "outputs": [],
   "source": []
  },
  {
   "cell_type": "code",
   "execution_count": null,
   "metadata": {},
   "outputs": [],
   "source": []
  }
 ],
 "metadata": {
  "kernelspec": {
   "display_name": "Python 3",
   "language": "python",
   "name": "python3"
  },
  "language_info": {
   "codemirror_mode": {
    "name": "ipython",
    "version": 3
   },
   "file_extension": ".py",
   "mimetype": "text/x-python",
   "name": "python",
   "nbconvert_exporter": "python",
   "pygments_lexer": "ipython3",
   "version": "3.6.5"
  }
 },
 "nbformat": 4,
 "nbformat_minor": 2
}
